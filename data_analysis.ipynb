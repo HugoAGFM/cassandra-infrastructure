{
 "cells": [
  {
   "cell_type": "markdown",
   "metadata": {},
   "source": [
    "# Trabalho Infraestrutura Cassandra - Instituto Infnet\n",
    "\n",
    "## Introdução\n",
    "\n",
    "### Proposta do trabalho\n",
    "\n",
    "Esse trabalho tem a proposta de preparar um ambiente Cassandra capaz de receber uma base de dados para consulta, sobre a qual depois será feita uma análise de dados utilizando o Apache Spark."
   ]
  },
  {
   "cell_type": "markdown",
   "metadata": {},
   "source": [
    "### Diferenças entre bases de dados SQL e NoSQL\n",
    "\n",
    "As bases de dados SQL (Structured Query Language) e NoSQL (Not Only SQL) diferem em vários aspectos, incluindo o modelo de dados, o sistema de gerenciamento e outras características considerando principalmente o teorema CAP (Consistency, Availability, Partition Tolerance) e as propriedades ACID (Atomicity, Consistency, Isolation, and Durability) e BASE (Basically Available, Soft state, and Eventual consistency).\n",
    "\n",
    "#### Bases de Dados SQL\n",
    "- **Modelo de Dados**: SQL utiliza um modelo relacional, onde os dados são organizados em tabelas com esquemas predefinidos. ex: MySQL, PostgreSQL, Oracle.\n",
    "- **Teorema CAP**: Tende a priorizar consistência sobre disponibilidade e tolerância a partições. Se um nó falha, o sistema pode tornar-se indisponível para manter a consistência.\n",
    "- **Propriedades ACID**: Garante Atomicidade, Consistência, Isolamento e Durabilidade das transações.\n",
    "- **Exemplo de uso**: Um sistema financeiro que precisa manter a consistência rigorosa para garantir a precisão das transações.\n",
    "\n",
    "#### Bases de Dados NoSQL:\n",
    "- **Modelo de Dados**: NoSQL pode ter diversos modelos de dados, como chave-valor, documento, coluna, e grafos ex: MongoDB (documento), Cassandra (coluna), Redis (chave-valor), Neo4j(grafo).\n",
    "- **Teorema CAP**: Tende a priorizar disponibilidade e tolerância a partições sobre consistência. Em caso de falha de nó, o sistema ainda permanece disponível, mesmo que a consistência seja temporariamente comprometida.\n",
    "- **Propriedades BASE**: O sistema sempre responde, mesmo que com falhas e apesar de inconsistentes eventuais.\n",
    "- **Exemplo de uso**: Um sistema de análise de Big Data que lida com grandes volumes de dados e prioriza a escalabilidade e a disponibilidade sobre a consistência estrita."
   ]
  },
  {
   "cell_type": "markdown",
   "metadata": {},
   "source": [
    "### Sobre o dataset\n",
    "\n",
    "O conjunto de dados analisado está disponível no [kaggle](https://www.kaggle.com/datasets/mcamera/brazil-highway-traffic-accidents) e contém dados de acidentes nas rodovias federais do Brasil entre 2007 e 2021 em vários níveis de granularidade.\n",
    "\n",
    "O nível de granularidade escolhido foi ‘acidentes por pessoa’ e, como houve uma mudança no sistema de registro desses dados em 2017, esta análise ficou restrita ao período de 2017 a 2021. A base de dados tratada para análise, assim como os resultados da análise, se encontra no [google drive](https://drive.google.com/drive/folders/1Sk6OiW3U-MJZEdN9i5q8h3tQFSfsoo0b?usp=drive_link)"
   ]
  },
  {
   "cell_type": "markdown",
   "metadata": {},
   "source": [
    "### Descrição das colunas\n",
    "\n",
    "A tabela abaixo contém a descrição do conteúdo de cada coluna na base de dados original.\n",
    "\n",
    "| Coluna                 | Descrição                                          | \n",
    "| :--------------------- | :--------------------------------------------------|\n",
    "| id                     | ID do acidente                                     | \n",
    "| data_inversa           | Data quando ocorreu o acidente                     | \n",
    "| dia_semana             | Dia da semana quando ocorreu o acidente            | \n",
    "| horario                | Horário quando ocorreu o acidente                  | \n",
    "| uf                     | Unidade Federativa onde ocorreu o acidente         | \n",
    "| br                     | Rodovia onde ocorreu o acidente                    | \n",
    "| km                     | Quilômetro da rodovia onde ocorreu o acidente      |  \n",
    "| municipio              | Cidade onde ocorreu o acidente                     | \n",
    "| causa_acidente         | Causa do acidente                                  | \n",
    "| tipo_acidente          | Tipo de acidente                                   | \n",
    "| classificacao_acidente | Classificação do acidente                          | \n",
    "| fase_dia               | Período do dia quando aconteceu o acidente         | \n",
    "| sentido_via            | Sentido da via onde aconteceu o acidente           | \n",
    "| condicao_metereologica | Condição metereológica quando aconteceu o acidente | \n",
    "| tipo_pista             | Tipo de pista onde aconteceu o acidente            | \n",
    "| tracado_via            | Traçado da via onde aconteceu o acidente           | \n",
    "| uso_solo               | Se o veículo saiu da pista no acidente             | \n",
    "| id_veiculo             | ID do veículo envolvido no acidente                | \n",
    "| tipo_veiculo           | Tipo de veículo envolvido no acidente              |\n",
    "| marca                  | marca do veículo envolvido no acidnete             |\n",
    "| ano_fabricacao_veiculo | Ano de fabricaçãp dp veículo envolvido no acidente | \n",
    "| pesid                  | ID da pessoa envolvida no acidente                 | \n",
    "| tipo_envolvido         | Tipo de pessoa envolvida no acidente               | \n",
    "| estado_fisico          | Estado físico da pessoa envolvida no acidente      |\n",
    "| idade                  | Idade da pessoa envolvida no acidente              |\n",
    "| sexo                   | Sexo da pessoa envolvida no                        |"
   ]
  },
  {
   "cell_type": "markdown",
   "metadata": {},
   "source": [
    "### Hipóteses, pergunta de negócio e modelo de dados\n",
    "\n",
    "Sobre a base de dados em questão, foram estabalecidas as seguintes hipóteses:\n",
    "\n",
    "1. Acidentes cuja causa se deve ao condutor do veículo ter dormido são mais comuns quando se têm apenas uma pessoa no veículo.\n",
    "2. Acidentes cuja causa se deve à ingestão de álcool ou outra substância, pelo pedestre ou condutor, são mais comuns durante a noite.\n",
    "\n",
    "Para ambas as hipóteses se presumiu que a busca deveria ser orientada pelas possíveis causas de acidentes, dentro do total de acidentes disponível na amostra. Sendo assim, o modelo de dados para a tabela criada ficou definido conforme a figura abaixo, onde **Q1 - Busca de acidentes por causa**.\n",
    "\n",
    "![](./data_model.png)"
   ]
  },
  {
   "cell_type": "markdown",
   "metadata": {},
   "source": [
    "\n",
    "## Preparação do ambiente\n",
    "O ambiente que recebeu a base de dados consiste em um cluster de nó único, criado com Docker, no qual foi criado um keyspace 'acidentes' e uma tabela 'acidentes_por_causa'.\n",
    "\n",
    "### Criação de Docker Network\n",
    "```\n",
    "docker network create cassandra-network\n",
    "```\n",
    "![](./img/create_network.jpg)\n",
    "\n",
    "\n",
    "### Criação de Cluster Cassandra com Docker\n",
    "```\n",
    "docker run --name cassandra-node --network cassandra-network -p 9042:9042 -d cassandra:4.0\n",
    "```\n",
    "![](./img/run_cassandra_container.jpg)\n",
    "\n",
    "### Verificação de status do cluster\n",
    "```\n",
    "docker exec cassandra-node nodetool status\n",
    "```\n",
    "![](./img/cluster_status.jpg)\n",
    "\n",
    "### Cópia do arquivo csv para container\n",
    "```\n",
    "docker cp ./acidentes_por_causa.csv cassandra-node:/opt/cassandra\n",
    "```\n",
    "![](./img/copy_file.jpg)\n",
    "\n",
    "### Criação do keyspace\n",
    "```\n",
    "CREATE KEYSPACE IF NOT EXISTS acidentes WITH REPLICATION =\n",
    "{ 'class' : 'SimpleStrategy',\n",
    "'replication_factor' : '1'\n",
    "};\n",
    "```\n",
    "![](./img/create_keyspace.jpg)\n",
    "\n",
    "### Criação da tabela\n",
    "```\n",
    "CREATE TABLE IF NOT EXISTS acidentes.acidentes_por_causa (\n",
    "    causa_acidente VARCHAR,\n",
    "    pesid INT,\n",
    "    id INT,\n",
    "    id_veiculo INT,\n",
    "    tipo_envolvido VARCHAR,\n",
    "    fase_dia VARCHAR,\n",
    "    PRIMARY KEY (causa_acidente, pesid)\n",
    ");\n",
    "```\n",
    "![](./img/create_table.jpg)\n",
    "\n",
    "### Carregamento de dados para a tabela\n",
    "```\n",
    "COPY acidentes_por_causa (causa_acidente, pesid, id, id_veiculo, tipo_envolvido, fase_dia)\n",
    "FROM 'acidentes_por_causa.csv'\n",
    "WITH HEADER = true;\n",
    "```\n",
    "![](./img/load_table.jpg)"
   ]
  },
  {
   "cell_type": "markdown",
   "metadata": {},
   "source": [
    "## Análise de dados\n",
    "\n",
    "### Considerações\n",
    "\n",
    "Em um ambiente produtivo, o recomendável seria utilizar um conector que permitisse a comunicação direta do spark com o cluster cassandra. Contudo, por dificuldades de configuração do conector no ambiente local, foi utilizado a biblioteca cassandra-cluster para se comunicar com o cluster em execução e extrair os dados."
   ]
  },
  {
   "cell_type": "code",
   "execution_count": 26,
   "metadata": {},
   "outputs": [],
   "source": [
    "from cassandra.cluster import Cluster\n",
    "from pyspark.sql import SparkSession\n",
    "from pyspark.sql.types import *\n",
    "from pyspark.sql.functions import *\n",
    "import matplotlib.pyplot as plt"
   ]
  },
  {
   "cell_type": "markdown",
   "metadata": {},
   "source": [
    "### Estabelecimento de comunicação com cluster\n",
    "\n",
    "A porta padrão de comunicação é a 9042 e a sessão foi diretamente estabelecida com o keyspace 'acidentes'"
   ]
  },
  {
   "cell_type": "code",
   "execution_count": 27,
   "metadata": {},
   "outputs": [],
   "source": [
    "cluster = Cluster([\"127.0.0.1\"])\n",
    "session = cluster.connect(\"acidentes\")"
   ]
  },
  {
   "cell_type": "markdown",
   "metadata": {},
   "source": [
    "### Carregamento do DataFrame"
   ]
  },
  {
   "cell_type": "code",
   "execution_count": 28,
   "metadata": {},
   "outputs": [],
   "source": [
    "spark = SparkSession.builder.master(\"local[*]\").getOrCreate()\n",
    "\n",
    "spark.sparkContext.setLogLevel(\"OFF\")"
   ]
  },
  {
   "cell_type": "code",
   "execution_count": 29,
   "metadata": {},
   "outputs": [],
   "source": [
    "data = session.execute(\n",
    "    \"SELECT causa_acidente, pesid, id, id_veiculo, fase_dia, tipo_envolvido FROM acidentes_por_causa\"\n",
    ")"
   ]
  },
  {
   "cell_type": "code",
   "execution_count": 30,
   "metadata": {},
   "outputs": [],
   "source": [
    "schema = StructType(\n",
    "    [\n",
    "        StructField(\"causa_acidente\", StringType(), True),\n",
    "        StructField(\"pesid\", IntegerType(), True),\n",
    "        StructField(\"id\", IntegerType(), True),\n",
    "        StructField(\"id_veiculo\", IntegerType(), True),\n",
    "        StructField(\"fase_dia\", StringType(), True),\n",
    "        StructField(\"tipo_envolvido\", StringType(), True),\n",
    "    ]\n",
    ")"
   ]
  },
  {
   "cell_type": "code",
   "execution_count": 31,
   "metadata": {},
   "outputs": [],
   "source": [
    "df = spark.createDataFrame(data, schema)"
   ]
  },
  {
   "cell_type": "markdown",
   "metadata": {},
   "source": [
    "### Análise"
   ]
  },
  {
   "cell_type": "code",
   "execution_count": 32,
   "metadata": {},
   "outputs": [
    {
     "name": "stderr",
     "output_type": "stream",
     "text": [
      "[Stage 67:>                                                         (0 + 1) / 1]\r"
     ]
    },
    {
     "name": "stdout",
     "output_type": "stream",
     "text": [
      "+----------------------+------+------+----------+-----------+--------------+\n",
      "|causa_acidente        |pesid |id    |id_veiculo|fase_dia   |tipo_envolvido|\n",
      "+----------------------+------+------+----------+-----------+--------------+\n",
      "|Mal súbito do condutor|738367|331811|595240    |Pleno dia  |Condutor      |\n",
      "|Mal súbito do condutor|738694|331956|595464    |Plena Noite|Condutor      |\n",
      "|Mal súbito do condutor|738924|332054|595607    |Pleno dia  |Condutor      |\n",
      "|Mal súbito do condutor|739122|331989|595587    |Pleno dia  |Condutor      |\n",
      "|Mal súbito do condutor|739124|331989|595588    |Pleno dia  |Condutor      |\n",
      "|Mal súbito do condutor|739126|331989|595588    |Pleno dia  |Passageiro    |\n",
      "|Mal súbito do condutor|739129|331989|595587    |Pleno dia  |Pedestre      |\n",
      "|Mal súbito do condutor|739461|332296|595943    |Pleno dia  |Condutor      |\n",
      "|Mal súbito do condutor|739465|332296|595943    |Pleno dia  |Passageiro    |\n",
      "|Mal súbito do condutor|739812|332404|596203    |Pleno dia  |Condutor      |\n",
      "+----------------------+------+------+----------+-----------+--------------+\n",
      "only showing top 10 rows\n",
      "\n"
     ]
    },
    {
     "name": "stderr",
     "output_type": "stream",
     "text": [
      "                                                                                \r"
     ]
    }
   ],
   "source": [
    "df.show(10, truncate=False)"
   ]
  },
  {
   "cell_type": "markdown",
   "metadata": {},
   "source": [
    "#### Hipótese 1 - Acidentes cuja causa se deve ao condutor do veículo ter dormido são mais comuns quando se têm apenas uma pessoa no veículo"
   ]
  },
  {
   "cell_type": "code",
   "execution_count": 33,
   "metadata": {},
   "outputs": [],
   "source": [
    "final_df = (\n",
    "    df.where(\"tipo_envolvido in ('Passageiro', 'Condutor')\")\n",
    "    .groupBy(\"id\", \"id_veiculo\", \"causa_acidente\")\n",
    "    .count()\n",
    "    .withColumn(\n",
    "        \"quant_pessoas_no_veiculo\", when(col(\"count\") > 1, \"Mais de uma\").otherwise(\"Apenas uma\")\n",
    "    )\n",
    "    .withColumn(\n",
    "        \"condutor_esta_dormindo\",\n",
    "        when(col(\"causa_acidente\") == \"Condutor Dormindo\", 1).otherwise(0),\n",
    "    )\n",
    "    .groupBy(\"quant_pessoas_no_veiculo\")\n",
    "    .agg(\n",
    "        sum(\"condutor_esta_dormindo\").alias(\"num_acidentes_c_contutor_dormindo\"),\n",
    "        count(\"id\").alias(\"total_num_acidentes\"),\n",
    "    )\n",
    "    .withColumn(\n",
    "        \"taxa\",\n",
    "        col(\"num_acidentes_c_contutor_dormindo\") / col(\"total_num_acidentes\") * 100,\n",
    "    )\n",
    ")"
   ]
  },
  {
   "cell_type": "code",
   "execution_count": 34,
   "metadata": {},
   "outputs": [
    {
     "name": "stderr",
     "output_type": "stream",
     "text": [
      "[Stage 68:>                                                         (0 + 0) / 4]\r"
     ]
    },
    {
     "name": "stderr",
     "output_type": "stream",
     "text": [
      "[Stage 70:>                                                         (0 + 4) / 4]\r"
     ]
    },
    {
     "name": "stdout",
     "output_type": "stream",
     "text": [
      "+------------------------+---------------------------------+-------------------+-----------------+\n",
      "|quant_pessoas_no_veiculo|num_acidentes_c_contutor_dormindo|total_num_acidentes|             taxa|\n",
      "+------------------------+---------------------------------+-------------------+-----------------+\n",
      "|             Mais de uma|                             4291|             115260|3.722887385042513|\n",
      "|              Apenas uma|                            11822|             410588|2.879285317642016|\n",
      "+------------------------+---------------------------------+-------------------+-----------------+\n",
      "\n"
     ]
    },
    {
     "name": "stderr",
     "output_type": "stream",
     "text": [
      "                                                                                \r"
     ]
    }
   ],
   "source": [
    "final_df.show()"
   ]
  },
  {
   "cell_type": "code",
   "execution_count": 35,
   "metadata": {},
   "outputs": [
    {
     "name": "stderr",
     "output_type": "stream",
     "text": [
      "                                                                                \r"
     ]
    }
   ],
   "source": [
    "final_df.write.option(\"header\", True).csv(\"./hipotese1\")"
   ]
  },
  {
   "cell_type": "markdown",
   "metadata": {},
   "source": [
    "#### Conclusão\n",
    "\n",
    "A Hipótese 1, para a base de dados disponível, é falsa, pois os casos de acidentes onde o condutor dorme ao volante são menos comuns quando se tem apenas uma pessoa no veículo."
   ]
  },
  {
   "cell_type": "markdown",
   "metadata": {},
   "source": [
    "#### Visualização"
   ]
  },
  {
   "cell_type": "code",
   "execution_count": 36,
   "metadata": {},
   "outputs": [
    {
     "name": "stderr",
     "output_type": "stream",
     "text": [
      "[Stage 80:>                                                         (0 + 4) / 4]\r"
     ]
    },
    {
     "name": "stderr",
     "output_type": "stream",
     "text": [
      "                                                                                \r"
     ]
    },
    {
     "name": "stdout",
     "output_type": "stream",
     "text": [
      "+------------------------+--------------------+--------------------+\n",
      "|quant_pessoas_no_veiculo|taxa_casos_positivos|taxa_casos_negativos|\n",
      "+------------------------+--------------------+--------------------+\n",
      "|             Mais de uma| 0.03722887385042513|  0.9627711261495748|\n",
      "|              Apenas uma| 0.02879285317642016|  0.9712071468235799|\n",
      "+------------------------+--------------------+--------------------+\n",
      "\n"
     ]
    }
   ],
   "source": [
    "new_df = (\n",
    "    final_df.withColumn(\n",
    "        \"taxa_casos_positivos\",\n",
    "        col(\"num_acidentes_c_contutor_dormindo\") / col(\"total_num_acidentes\"),\n",
    "    )\n",
    "    .withColumn(\n",
    "        \"taxa_casos_negativos\",\n",
    "        (col(\"total_num_acidentes\") - col(\"num_acidentes_c_contutor_dormindo\"))\n",
    "        / col(\"total_num_acidentes\"),\n",
    "    )\n",
    "    .select(\"quant_pessoas_no_veiculo\", \"taxa_casos_positivos\", \"taxa_casos_negativos\")\n",
    ")\n",
    "\n",
    "new_df.show()"
   ]
  },
  {
   "cell_type": "code",
   "execution_count": 37,
   "metadata": {},
   "outputs": [
    {
     "name": "stderr",
     "output_type": "stream",
     "text": [
      "                                                                                \r"
     ]
    },
    {
     "data": {
      "image/png": "[encoded data removed]",
      "text/plain": [
       "<Figure size 640x480 with 1 Axes>"
      ]
     },
     "metadata": {},
     "output_type": "display_data"
    }
   ],
   "source": [
    "new_df = new_df.toPandas()\n",
    "\n",
    "quant_pessoas_no_veiculo = new_df.quant_pessoas_no_veiculo\n",
    "casos_positivos = new_df.taxa_casos_positivos\n",
    "casos_negativos = new_df.taxa_casos_negativos\n",
    "\n",
    "plt.bar(quant_pessoas_no_veiculo, casos_negativos, color=\"tab:blue\")\n",
    "plt.bar(quant_pessoas_no_veiculo, casos_positivos, bottom=casos_negativos, color=\"tab:cyan\")\n",
    "plt.show()"
   ]
  },
  {
   "cell_type": "markdown",
   "metadata": {},
   "source": [
    "#### Hipótese 2 - Acidentes cuja causa se deve à ingestão de álcool ou outra substância, pelo pedestre ou pelo condutor, são mais comuns durante a noite"
   ]
  },
  {
   "cell_type": "code",
   "execution_count": 38,
   "metadata": {},
   "outputs": [],
   "source": [
    "final_df = (\n",
    "    df.select(\"id\", \"fase_dia\", \"causa_acidente\")\n",
    "    .distinct()\n",
    "    .withColumn(\n",
    "        \"estado_mental_esta_alterado\",\n",
    "        when(col(\"causa_acidente\").like(\"Ingest%\"), 1).otherwise(0),\n",
    "    )\n",
    "    .groupBy(\"fase_dia\")\n",
    "    .agg(\n",
    "        sum(\"estado_mental_esta_alterado\").alias(\n",
    "            \"num_acidentes_c_estado_mental_alterado\"\n",
    "        ),\n",
    "        count(\"id\").alias(\"num_total_acidentes\"),\n",
    "    )\n",
    "    .withColumn(\n",
    "        \"taxa_de_acidentes\",\n",
    "        col(\"num_acidentes_c_estado_mental_alterado\")\n",
    "        / col(\"num_total_acidentes\")\n",
    "        * 100,\n",
    "    )\n",
    "    .orderBy(col(\"taxa_de_acidentes\").desc())\n",
    ")"
   ]
  },
  {
   "cell_type": "code",
   "execution_count": 39,
   "metadata": {},
   "outputs": [
    {
     "name": "stderr",
     "output_type": "stream",
     "text": [
      "[Stage 92:>                                                         (0 + 4) / 4]\r"
     ]
    },
    {
     "name": "stderr",
     "output_type": "stream",
     "text": [
      "[Stage 94:======================================>                   (2 + 1) / 3]\r"
     ]
    },
    {
     "name": "stdout",
     "output_type": "stream",
     "text": [
      "+-----------+--------------------------------------+-------------------+------------------+\n",
      "|   fase_dia|num_acidentes_c_estado_mental_alterado|num_total_acidentes| taxa_de_acidentes|\n",
      "+-----------+--------------------------------------+-------------------+------------------+\n",
      "|Plena Noite|                                 16094|             111167|14.477317909091727|\n",
      "|  Amanhecer|                                  1500|              15588|  9.62278675904542|\n",
      "|  Anoitecer|                                  1343|              17708| 7.584142760334313|\n",
      "|  Pleno dia|                                  6965|             176266|3.9514143396911483|\n",
      "+-----------+--------------------------------------+-------------------+------------------+\n",
      "\n"
     ]
    },
    {
     "name": "stderr",
     "output_type": "stream",
     "text": [
      "                                                                                \r"
     ]
    }
   ],
   "source": [
    "final_df.show()"
   ]
  },
  {
   "cell_type": "code",
   "execution_count": 40,
   "metadata": {},
   "outputs": [
    {
     "name": "stderr",
     "output_type": "stream",
     "text": [
      "[Stage 98:>                                                         (0 + 4) / 4]\r"
     ]
    },
    {
     "name": "stderr",
     "output_type": "stream",
     "text": [
      "                                                                                \r"
     ]
    }
   ],
   "source": [
    "final_df.write.option(\"header\", True).csv(\"./hipotese2\")"
   ]
  },
  {
   "cell_type": "markdown",
   "metadata": {},
   "source": [
    "#### Conclusão\n",
    "\n",
    "A Hipótese 2, para a base de dados disponível, é verdadeira, pois os casos de acidentes cuja causa se deve a ingestão de álcool ou outra substância, pelo condutor ou pedestre, são mais comuns durante a noite."
   ]
  },
  {
   "cell_type": "markdown",
   "metadata": {},
   "source": [
    "#### Visualização"
   ]
  },
  {
   "cell_type": "code",
   "execution_count": 41,
   "metadata": {},
   "outputs": [
    {
     "name": "stderr",
     "output_type": "stream",
     "text": [
      "[Stage 113:=========================================================(3 + 0) / 3]\r"
     ]
    },
    {
     "name": "stdout",
     "output_type": "stream",
     "text": [
      "+-----------+--------------------+--------------------+\n",
      "|   fase_dia|taxa_casos_positivos|taxa_casos_negativos|\n",
      "+-----------+--------------------+--------------------+\n",
      "|Plena Noite| 0.14477317909091728|  0.8552268209090828|\n",
      "|  Amanhecer|  0.0962278675904542|  0.9037721324095458|\n",
      "|  Anoitecer| 0.07584142760334313|  0.9241585723966569|\n",
      "|  Pleno dia|0.039514143396911484|  0.9604858566030885|\n",
      "+-----------+--------------------+--------------------+\n",
      "\n"
     ]
    },
    {
     "name": "stderr",
     "output_type": "stream",
     "text": [
      "                                                                                \r"
     ]
    }
   ],
   "source": [
    "new_df = (\n",
    "    final_df.withColumn(\n",
    "        \"taxa_casos_positivos\",\n",
    "        col(\"num_acidentes_c_estado_mental_alterado\") / col(\"num_total_acidentes\"),\n",
    "    )\n",
    "    .withColumn(\n",
    "        \"taxa_casos_negativos\",\n",
    "        (col(\"num_total_acidentes\") - col(\"num_acidentes_c_estado_mental_alterado\"))\n",
    "        / col(\"num_total_acidentes\"),\n",
    "    )\n",
    "    .select(\"fase_dia\", \"taxa_casos_positivos\", \"taxa_casos_negativos\")\n",
    ")\n",
    "\n",
    "new_df.show()"
   ]
  },
  {
   "cell_type": "code",
   "execution_count": 42,
   "metadata": {},
   "outputs": [
    {
     "name": "stderr",
     "output_type": "stream",
     "text": [
      "                                                                                \r"
     ]
    },
    {
     "data": {
      "image/png": "[encoded data removed]",
      "text/plain": [
       "<Figure size 640x480 with 1 Axes>"
      ]
     },
     "metadata": {},
     "output_type": "display_data"
    }
   ],
   "source": [
    "new_df = new_df.toPandas()\n",
    "\n",
    "fase_dia = new_df.fase_dia\n",
    "casos_positivos = new_df.taxa_casos_positivos\n",
    "casos_negativos = new_df.taxa_casos_negativos\n",
    "\n",
    "plt.bar(fase_dia, casos_negativos, color=\"tab:blue\")\n",
    "plt.bar(fase_dia, casos_positivos, bottom=casos_negativos, color=\"tab:cyan\")\n",
    "plt.show()"
   ]
  }
 ],
 "metadata": {
  "kernelspec": {
   "display_name": "Python 3 (ipykernel)",
   "language": "python",
   "name": "python3"
  },
  "language_info": {
   "codemirror_mode": {
    "name": "ipython",
    "version": 3
   },
   "file_extension": ".py",
   "mimetype": "text/x-python",
   "name": "python",
   "nbconvert_exporter": "python",
   "pygments_lexer": "ipython3",
   "version": "3.12.1"
  }
 },
 "nbformat": 4,
 "nbformat_minor": 4
}
